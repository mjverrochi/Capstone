{
 "cells": [
  {
   "cell_type": "code",
   "execution_count": 1,
   "id": "3064fb63-0c2c-4047-a076-f2bf6a681f58",
   "metadata": {},
   "outputs": [
    {
     "name": "stderr",
     "output_type": "stream",
     "text": [
      "C:\\Users\\micha\\anaconda3\\envs\\tf\\lib\\site-packages\\scipy\\__init__.py:146: UserWarning: A NumPy version >=1.16.5 and <1.23.0 is required for this version of SciPy (detected version 1.23.3\n",
      "  warnings.warn(f\"A NumPy version >={np_minversion} and <{np_maxversion}\"\n"
     ]
    }
   ],
   "source": [
    "import pandas as pd\n",
    "import numpy as np\n",
    "import matplotlib.pyplot as plt\n",
    "\n",
    "from sklearn.linear_model import LogisticRegression\n",
    "from sklearn import svm, linear_model, datasets\n",
    "from sklearn.model_selection import cross_val_score\n",
    "\n",
    "from PIL import Image, ImageFilter \n",
    "\n",
    "from numpy import asarray\n",
    "\n",
    "import os\n",
    "\n",
    "import cv2\n",
    "\n",
    "%matplotlib inline\n",
    "%config InlineBackend.figure_format = 'retina'"
   ]
  },
  {
   "cell_type": "code",
   "execution_count": 2,
   "id": "f1e26bc5-6845-4c84-a2ca-0abf11c46234",
   "metadata": {},
   "outputs": [],
   "source": [
    "train_set = 'data/train/'\n",
    "test_set = 'data/test/'\n",
    "\n",
    "train_set_B = 'data/train/B/'\n",
    "train_set_N = 'data/train/N/'\n",
    "test_set_B = 'data/test/B/'\n",
    "test_set_N = 'data/test/N/'"
   ]
  },
  {
   "cell_type": "markdown",
   "id": "ae11809f-3e02-475f-ad8f-c306bc61ca19",
   "metadata": {
    "tags": []
   },
   "source": [
    "### Converting Images to Grayscale and Saving to new Folders"
   ]
  },
  {
   "cell_type": "code",
   "execution_count": 3,
   "id": "f0d5ad08-e733-4d14-b082-083dd9379841",
   "metadata": {},
   "outputs": [],
   "source": [
    "# for picture in os.listdir('data/train/B/'):\n",
    "#     if not picture.startswith('.'):\n",
    "#         img = Image.open(train_set_B + picture).convert('L')\n",
    "#         img.save('data/grayscale/g_train/B/' + picture)"
   ]
  },
  {
   "cell_type": "code",
   "execution_count": 4,
   "id": "601faad3-03df-49a5-a936-efe73e6342d5",
   "metadata": {},
   "outputs": [],
   "source": [
    "# for picture in os.listdir('data/train/N/'):\n",
    "#     if not picture.startswith('.'):\n",
    "#         img = Image.open(train_set_N + picture).convert('L')\n",
    "#         img.save('data/grayscale/g_train/N/' + picture)"
   ]
  },
  {
   "cell_type": "code",
   "execution_count": 5,
   "id": "baed9e1e-ba04-4a2d-bff3-0ce399970b63",
   "metadata": {},
   "outputs": [],
   "source": [
    "# for picture in os.listdir('data/test/B/'):\n",
    "#     if not picture.startswith('.'):\n",
    "#         img = Image.open(test_set_B + picture).convert('L')\n",
    "#         img.save('data/grayscale/g_test/B/' + picture)"
   ]
  },
  {
   "cell_type": "code",
   "execution_count": 6,
   "id": "010f7304-b05f-4a7a-97c0-ed9df8405272",
   "metadata": {},
   "outputs": [],
   "source": [
    "# for picture in os.listdir('data/test/N/'):\n",
    "#     if not picture.startswith('.'):\n",
    "#         img = Image.open(test_set_N + picture).convert('L')\n",
    "#         img.save('data/grayscale/g_test/N/' + picture)"
   ]
  },
  {
   "cell_type": "markdown",
   "id": "027d87d2-aed4-4f60-a92f-d42a9e6b6015",
   "metadata": {},
   "source": [
    "### Baseline\n",
    "- zero classifier baseline is about 50%"
   ]
  },
  {
   "cell_type": "code",
   "execution_count": 7,
   "id": "b70bf5e1-c832-41e7-96ad-697e5df1e2b9",
   "metadata": {},
   "outputs": [
    {
     "data": {
      "text/plain": [
       "0.5"
      ]
     },
     "execution_count": 7,
     "metadata": {},
     "output_type": "execute_result"
    }
   ],
   "source": [
    "len(os.listdir('data/grayscale/g_train/B/')) / (len(os.listdir('data/grayscale/g_train/B/')) + len(os.listdir('data/grayscale/g_train/N/')))"
   ]
  },
  {
   "cell_type": "code",
   "execution_count": 8,
   "id": "94225477-06ab-4959-8c59-9ee836a8c475",
   "metadata": {},
   "outputs": [
    {
     "data": {
      "text/plain": [
       "0.5"
      ]
     },
     "execution_count": 8,
     "metadata": {},
     "output_type": "execute_result"
    }
   ],
   "source": [
    "len(os.listdir('data/grayscale/g_test/B/')) / (len(os.listdir('data/grayscale/g_test/B/')) + len(os.listdir('data/grayscale/g_test/N/')))"
   ]
  },
  {
   "cell_type": "markdown",
   "id": "3b31fbad-a227-4f66-a455-3cca0154c7da",
   "metadata": {},
   "source": [
    "#### Making sure all images converted by comparing baselines of original images and converted images"
   ]
  },
  {
   "cell_type": "code",
   "execution_count": 9,
   "id": "77bee991-872c-40c9-b809-617e9c656665",
   "metadata": {},
   "outputs": [
    {
     "data": {
      "text/plain": [
       "0.50000834404152"
      ]
     },
     "execution_count": 9,
     "metadata": {},
     "output_type": "execute_result"
    }
   ],
   "source": [
    "len(os.listdir('data/train/B/')) / (len(os.listdir('data/train/B/')) + len(os.listdir('data/train/N/')))"
   ]
  },
  {
   "cell_type": "code",
   "execution_count": 10,
   "id": "6adb712f-f785-49ac-a02b-2f5cb85f2499",
   "metadata": {},
   "outputs": [
    {
     "data": {
      "text/plain": [
       "0.500029891791714"
      ]
     },
     "execution_count": 10,
     "metadata": {},
     "output_type": "execute_result"
    }
   ],
   "source": [
    "len(os.listdir('data/test/B/')) / (len(os.listdir('data/test/B/')) + len(os.listdir('data/test/N/')))"
   ]
  },
  {
   "cell_type": "markdown",
   "id": "16c8bc91-2447-4cf6-81b4-c1968af6e994",
   "metadata": {},
   "source": [
    "### Converting Images to numpy array"
   ]
  },
  {
   "cell_type": "code",
   "execution_count": 11,
   "id": "6c324b9c-f35c-4d92-912e-3905da22236c",
   "metadata": {},
   "outputs": [],
   "source": [
    "img_train_B = []\n",
    "\n",
    "for picture in os.listdir('data/grayscale/g_train/B/'):\n",
    "    if not picture.startswith('.'):\n",
    "        img = Image.open('data/grayscale/g_train/B/' + picture)\n",
    "        img = asarray(img_train_B, dtype=object)\n",
    "        img_train_B.append(img)"
   ]
  },
  {
   "cell_type": "code",
   "execution_count": null,
   "id": "6d831b39-341e-4593-8fcf-9ea6a827f142",
   "metadata": {},
   "outputs": [],
   "source": [
    "img_train_N = []\n",
    "\n",
    "for picture in os.listdir('data/grayscale/g_train/N/'):\n",
    "    if not picture.startswith('.'):\n",
    "        img = Image.open('data/grayscale/g_train/N/' + picture)\n",
    "        img = asarray(img_train_N, dtype=object)\n",
    "        img_train_N.append(img)"
   ]
  },
  {
   "cell_type": "code",
   "execution_count": 13,
   "id": "c367303c-f27b-4127-ab4a-32d5585ab785",
   "metadata": {},
   "outputs": [],
   "source": [
    "img_test_B = []\n",
    "\n",
    "for picture in os.listdir('data/grayscale/g_test/B/'):\n",
    "    if not picture.startswith('.'):\n",
    "        img = Image.open('data/grayscale/g_test/B/' + picture)\n",
    "        img = asarray(img_test_B, dtype=object)\n",
    "        img_test_B.append(img)"
   ]
  },
  {
   "cell_type": "code",
   "execution_count": 14,
   "id": "1bb3fcb4-83ef-4ce1-8211-d78aa42b2069",
   "metadata": {},
   "outputs": [],
   "source": [
    "img_test_N = []\n",
    "\n",
    "for picture in os.listdir('data/grayscale/g_test/N/'):\n",
    "    if not picture.startswith('.'):\n",
    "        img = Image.open('data/grayscale/g_test/N/' + picture)\n",
    "        img = asarray(img_test_N, dtype=object)\n",
    "        img_test_N.append(img)"
   ]
  },
  {
   "cell_type": "markdown",
   "id": "51cd071b-d4ef-4e6f-9c0c-1e559bb2b04f",
   "metadata": {},
   "source": [
    "### Converting arrays to dataframes"
   ]
  },
  {
   "cell_type": "markdown",
   "id": "70c4dddb-2385-4c43-b4e0-daaac655cafb",
   "metadata": {},
   "source": [
    "#### Train_B"
   ]
  },
  {
   "cell_type": "code",
   "execution_count": 15,
   "id": "52994406-a5fc-4ea2-b6f2-14a249ca687f",
   "metadata": {},
   "outputs": [],
   "source": [
    "train_B = img_train_B[:10]"
   ]
  },
  {
   "cell_type": "code",
   "execution_count": 16,
   "id": "6facfd90-4dfa-447a-95a5-f77b0d311d6d",
   "metadata": {},
   "outputs": [],
   "source": [
    "df_B1 = pd.DataFrame(train_B)"
   ]
  },
  {
   "cell_type": "code",
   "execution_count": 17,
   "id": "676c01f1-3ad6-4227-9bab-88a49b9f09d3",
   "metadata": {},
   "outputs": [],
   "source": [
    "df_B1['class'] = 'B'"
   ]
  },
  {
   "cell_type": "markdown",
   "id": "5733dbaa-529f-4a70-b6cd-8cfb66341dd2",
   "metadata": {},
   "source": [
    "#### Test_B"
   ]
  },
  {
   "cell_type": "code",
   "execution_count": 28,
   "id": "38559160-3e61-41f3-a4d7-33732008cd80",
   "metadata": {},
   "outputs": [],
   "source": [
    "test_B = img_test_B[:10]"
   ]
  },
  {
   "cell_type": "code",
   "execution_count": 29,
   "id": "5e99daf0-de6c-4d38-9779-d55113236bb7",
   "metadata": {},
   "outputs": [],
   "source": [
    "df_B2 = pd.DataFrame(test_B)"
   ]
  },
  {
   "cell_type": "code",
   "execution_count": 30,
   "id": "70b2d1b7-038c-4896-91e7-524295e24f97",
   "metadata": {},
   "outputs": [],
   "source": [
    "df_B2['class'] = 'B'"
   ]
  },
  {
   "cell_type": "markdown",
   "id": "acb6482c-bb8e-410c-a877-35d387ada36c",
   "metadata": {},
   "source": [
    "#### Train_N"
   ]
  },
  {
   "cell_type": "code",
   "execution_count": 34,
   "id": "922527a1-cde8-4f84-8514-09cc5414734d",
   "metadata": {},
   "outputs": [],
   "source": [
    "train_N = img_train_N[:10]"
   ]
  },
  {
   "cell_type": "code",
   "execution_count": 35,
   "id": "e5c2bc03-c5ff-4021-81c1-fa4eee86cdc8",
   "metadata": {},
   "outputs": [],
   "source": [
    "df_N1 = pd.DataFrame(train_N)"
   ]
  },
  {
   "cell_type": "code",
   "execution_count": 36,
   "id": "9cca118a-67dd-4095-84e5-5c1dd5b96ab9",
   "metadata": {},
   "outputs": [],
   "source": [
    "df_N1['class'] = 'N'"
   ]
  },
  {
   "cell_type": "markdown",
   "id": "934c1afa-3f72-425c-aa07-568cec678708",
   "metadata": {},
   "source": [
    "#### Test_N"
   ]
  },
  {
   "cell_type": "code",
   "execution_count": 38,
   "id": "d1b6d6a0-04b6-4640-8cfd-cd6305e99950",
   "metadata": {},
   "outputs": [],
   "source": [
    "test_N = img_test_N[:10]"
   ]
  },
  {
   "cell_type": "code",
   "execution_count": 40,
   "id": "20e64a34-c44a-4d2e-874e-c530bbe5d974",
   "metadata": {},
   "outputs": [],
   "source": [
    "df_N2 = pd.DataFrame(test_N)"
   ]
  },
  {
   "cell_type": "code",
   "execution_count": 41,
   "id": "2e5c3edc-bb9b-4b9e-ade7-a64b19f8036f",
   "metadata": {},
   "outputs": [],
   "source": [
    "df_N2['class'] = 'N'"
   ]
  },
  {
   "cell_type": "markdown",
   "id": "b318eb75-a55b-4361-a5a6-8cd935d3b273",
   "metadata": {},
   "source": [
    "### Joing Dataframes"
   ]
  },
  {
   "cell_type": "code",
   "execution_count": 44,
   "id": "6b71467d-a7c9-43ca-9454-26327eb4ecc2",
   "metadata": {},
   "outputs": [],
   "source": [
    "train = pd.concat([df_B1, df_N1], ignore_index=True, axis=0)"
   ]
  },
  {
   "cell_type": "code",
   "execution_count": 45,
   "id": "730f55c7-8219-4932-a26a-fcc3848372af",
   "metadata": {},
   "outputs": [],
   "source": [
    "test = pd.concat([df_B2, df_N2], ignore_index=True, axis=0)"
   ]
  },
  {
   "cell_type": "markdown",
   "id": "d3b3a2ca-58c3-43ca-bc88-895d3eec55e6",
   "metadata": {},
   "source": [
    "### Modeling"
   ]
  },
  {
   "cell_type": "code",
   "execution_count": 54,
   "id": "ba4126f1-6706-4dd1-bc66-58325763aa87",
   "metadata": {},
   "outputs": [],
   "source": [
    "X = train.drop('class', axis = 1)\n",
    "y = train['class']"
   ]
  },
  {
   "cell_type": "code",
   "execution_count": 55,
   "id": "4de0c33b-6b96-45e9-a2d2-bd278855980b",
   "metadata": {},
   "outputs": [
    {
     "ename": "ValueError",
     "evalue": "setting an array element with a sequence.",
     "output_type": "error",
     "traceback": [
      "\u001b[1;31m---------------------------------------------------------------------------\u001b[0m",
      "\u001b[1;31mTypeError\u001b[0m                                 Traceback (most recent call last)",
      "\u001b[1;31mTypeError\u001b[0m: only size-1 arrays can be converted to Python scalars",
      "\nThe above exception was the direct cause of the following exception:\n",
      "\u001b[1;31mValueError\u001b[0m                                Traceback (most recent call last)",
      "Input \u001b[1;32mIn [55]\u001b[0m, in \u001b[0;36m<cell line: 2>\u001b[1;34m()\u001b[0m\n\u001b[0;32m      1\u001b[0m C \u001b[38;5;241m=\u001b[39m \u001b[38;5;241m1.0\u001b[39m \u001b[38;5;66;03m# SVM regularization parameter\u001b[39;00m\n\u001b[1;32m----> 2\u001b[0m svc \u001b[38;5;241m=\u001b[39m \u001b[43msvm\u001b[49m\u001b[38;5;241;43m.\u001b[39;49m\u001b[43mSVC\u001b[49m\u001b[43m(\u001b[49m\u001b[43mkernel\u001b[49m\u001b[38;5;241;43m=\u001b[39;49m\u001b[38;5;124;43m'\u001b[39;49m\u001b[38;5;124;43mlinear\u001b[39;49m\u001b[38;5;124;43m'\u001b[39;49m\u001b[43m,\u001b[49m\u001b[43m \u001b[49m\u001b[43mC\u001b[49m\u001b[38;5;241;43m=\u001b[39;49m\u001b[38;5;241;43m1\u001b[39;49m\u001b[43m,\u001b[49m\u001b[43mgamma\u001b[49m\u001b[38;5;241;43m=\u001b[39;49m\u001b[38;5;241;43m0\u001b[39;49m\u001b[43m)\u001b[49m\u001b[38;5;241;43m.\u001b[39;49m\u001b[43mfit\u001b[49m\u001b[43m(\u001b[49m\u001b[43mX\u001b[49m\u001b[43m,\u001b[49m\u001b[43m \u001b[49m\u001b[43my\u001b[49m\u001b[43m)\u001b[49m\n",
      "File \u001b[1;32m~\\anaconda3\\envs\\tf\\lib\\site-packages\\sklearn\\svm\\_base.py:173\u001b[0m, in \u001b[0;36mBaseLibSVM.fit\u001b[1;34m(self, X, y, sample_weight)\u001b[0m\n\u001b[0;32m    171\u001b[0m     check_consistent_length(X, y)\n\u001b[0;32m    172\u001b[0m \u001b[38;5;28;01melse\u001b[39;00m:\n\u001b[1;32m--> 173\u001b[0m     X, y \u001b[38;5;241m=\u001b[39m \u001b[38;5;28;43mself\u001b[39;49m\u001b[38;5;241;43m.\u001b[39;49m\u001b[43m_validate_data\u001b[49m\u001b[43m(\u001b[49m\n\u001b[0;32m    174\u001b[0m \u001b[43m        \u001b[49m\u001b[43mX\u001b[49m\u001b[43m,\u001b[49m\n\u001b[0;32m    175\u001b[0m \u001b[43m        \u001b[49m\u001b[43my\u001b[49m\u001b[43m,\u001b[49m\n\u001b[0;32m    176\u001b[0m \u001b[43m        \u001b[49m\u001b[43mdtype\u001b[49m\u001b[38;5;241;43m=\u001b[39;49m\u001b[43mnp\u001b[49m\u001b[38;5;241;43m.\u001b[39;49m\u001b[43mfloat64\u001b[49m\u001b[43m,\u001b[49m\n\u001b[0;32m    177\u001b[0m \u001b[43m        \u001b[49m\u001b[43morder\u001b[49m\u001b[38;5;241;43m=\u001b[39;49m\u001b[38;5;124;43m\"\u001b[39;49m\u001b[38;5;124;43mC\u001b[39;49m\u001b[38;5;124;43m\"\u001b[39;49m\u001b[43m,\u001b[49m\n\u001b[0;32m    178\u001b[0m \u001b[43m        \u001b[49m\u001b[43maccept_sparse\u001b[49m\u001b[38;5;241;43m=\u001b[39;49m\u001b[38;5;124;43m\"\u001b[39;49m\u001b[38;5;124;43mcsr\u001b[39;49m\u001b[38;5;124;43m\"\u001b[39;49m\u001b[43m,\u001b[49m\n\u001b[0;32m    179\u001b[0m \u001b[43m        \u001b[49m\u001b[43maccept_large_sparse\u001b[49m\u001b[38;5;241;43m=\u001b[39;49m\u001b[38;5;28;43;01mFalse\u001b[39;49;00m\u001b[43m,\u001b[49m\n\u001b[0;32m    180\u001b[0m \u001b[43m    \u001b[49m\u001b[43m)\u001b[49m\n\u001b[0;32m    182\u001b[0m y \u001b[38;5;241m=\u001b[39m \u001b[38;5;28mself\u001b[39m\u001b[38;5;241m.\u001b[39m_validate_targets(y)\n\u001b[0;32m    184\u001b[0m sample_weight \u001b[38;5;241m=\u001b[39m np\u001b[38;5;241m.\u001b[39masarray(\n\u001b[0;32m    185\u001b[0m     [] \u001b[38;5;28;01mif\u001b[39;00m sample_weight \u001b[38;5;129;01mis\u001b[39;00m \u001b[38;5;28;01mNone\u001b[39;00m \u001b[38;5;28;01melse\u001b[39;00m sample_weight, dtype\u001b[38;5;241m=\u001b[39mnp\u001b[38;5;241m.\u001b[39mfloat64\n\u001b[0;32m    186\u001b[0m )\n",
      "File \u001b[1;32m~\\anaconda3\\envs\\tf\\lib\\site-packages\\sklearn\\base.py:596\u001b[0m, in \u001b[0;36mBaseEstimator._validate_data\u001b[1;34m(self, X, y, reset, validate_separately, **check_params)\u001b[0m\n\u001b[0;32m    594\u001b[0m         y \u001b[38;5;241m=\u001b[39m check_array(y, input_name\u001b[38;5;241m=\u001b[39m\u001b[38;5;124m\"\u001b[39m\u001b[38;5;124my\u001b[39m\u001b[38;5;124m\"\u001b[39m, \u001b[38;5;241m*\u001b[39m\u001b[38;5;241m*\u001b[39mcheck_y_params)\n\u001b[0;32m    595\u001b[0m     \u001b[38;5;28;01melse\u001b[39;00m:\n\u001b[1;32m--> 596\u001b[0m         X, y \u001b[38;5;241m=\u001b[39m check_X_y(X, y, \u001b[38;5;241m*\u001b[39m\u001b[38;5;241m*\u001b[39mcheck_params)\n\u001b[0;32m    597\u001b[0m     out \u001b[38;5;241m=\u001b[39m X, y\n\u001b[0;32m    599\u001b[0m \u001b[38;5;28;01mif\u001b[39;00m \u001b[38;5;129;01mnot\u001b[39;00m no_val_X \u001b[38;5;129;01mand\u001b[39;00m check_params\u001b[38;5;241m.\u001b[39mget(\u001b[38;5;124m\"\u001b[39m\u001b[38;5;124mensure_2d\u001b[39m\u001b[38;5;124m\"\u001b[39m, \u001b[38;5;28;01mTrue\u001b[39;00m):\n",
      "File \u001b[1;32m~\\anaconda3\\envs\\tf\\lib\\site-packages\\sklearn\\utils\\validation.py:1074\u001b[0m, in \u001b[0;36mcheck_X_y\u001b[1;34m(X, y, accept_sparse, accept_large_sparse, dtype, order, copy, force_all_finite, ensure_2d, allow_nd, multi_output, ensure_min_samples, ensure_min_features, y_numeric, estimator)\u001b[0m\n\u001b[0;32m   1069\u001b[0m         estimator_name \u001b[38;5;241m=\u001b[39m _check_estimator_name(estimator)\n\u001b[0;32m   1070\u001b[0m     \u001b[38;5;28;01mraise\u001b[39;00m \u001b[38;5;167;01mValueError\u001b[39;00m(\n\u001b[0;32m   1071\u001b[0m         \u001b[38;5;124mf\u001b[39m\u001b[38;5;124m\"\u001b[39m\u001b[38;5;132;01m{\u001b[39;00mestimator_name\u001b[38;5;132;01m}\u001b[39;00m\u001b[38;5;124m requires y to be passed, but the target y is None\u001b[39m\u001b[38;5;124m\"\u001b[39m\n\u001b[0;32m   1072\u001b[0m     )\n\u001b[1;32m-> 1074\u001b[0m X \u001b[38;5;241m=\u001b[39m \u001b[43mcheck_array\u001b[49m\u001b[43m(\u001b[49m\n\u001b[0;32m   1075\u001b[0m \u001b[43m    \u001b[49m\u001b[43mX\u001b[49m\u001b[43m,\u001b[49m\n\u001b[0;32m   1076\u001b[0m \u001b[43m    \u001b[49m\u001b[43maccept_sparse\u001b[49m\u001b[38;5;241;43m=\u001b[39;49m\u001b[43maccept_sparse\u001b[49m\u001b[43m,\u001b[49m\n\u001b[0;32m   1077\u001b[0m \u001b[43m    \u001b[49m\u001b[43maccept_large_sparse\u001b[49m\u001b[38;5;241;43m=\u001b[39;49m\u001b[43maccept_large_sparse\u001b[49m\u001b[43m,\u001b[49m\n\u001b[0;32m   1078\u001b[0m \u001b[43m    \u001b[49m\u001b[43mdtype\u001b[49m\u001b[38;5;241;43m=\u001b[39;49m\u001b[43mdtype\u001b[49m\u001b[43m,\u001b[49m\n\u001b[0;32m   1079\u001b[0m \u001b[43m    \u001b[49m\u001b[43morder\u001b[49m\u001b[38;5;241;43m=\u001b[39;49m\u001b[43morder\u001b[49m\u001b[43m,\u001b[49m\n\u001b[0;32m   1080\u001b[0m \u001b[43m    \u001b[49m\u001b[43mcopy\u001b[49m\u001b[38;5;241;43m=\u001b[39;49m\u001b[43mcopy\u001b[49m\u001b[43m,\u001b[49m\n\u001b[0;32m   1081\u001b[0m \u001b[43m    \u001b[49m\u001b[43mforce_all_finite\u001b[49m\u001b[38;5;241;43m=\u001b[39;49m\u001b[43mforce_all_finite\u001b[49m\u001b[43m,\u001b[49m\n\u001b[0;32m   1082\u001b[0m \u001b[43m    \u001b[49m\u001b[43mensure_2d\u001b[49m\u001b[38;5;241;43m=\u001b[39;49m\u001b[43mensure_2d\u001b[49m\u001b[43m,\u001b[49m\n\u001b[0;32m   1083\u001b[0m \u001b[43m    \u001b[49m\u001b[43mallow_nd\u001b[49m\u001b[38;5;241;43m=\u001b[39;49m\u001b[43mallow_nd\u001b[49m\u001b[43m,\u001b[49m\n\u001b[0;32m   1084\u001b[0m \u001b[43m    \u001b[49m\u001b[43mensure_min_samples\u001b[49m\u001b[38;5;241;43m=\u001b[39;49m\u001b[43mensure_min_samples\u001b[49m\u001b[43m,\u001b[49m\n\u001b[0;32m   1085\u001b[0m \u001b[43m    \u001b[49m\u001b[43mensure_min_features\u001b[49m\u001b[38;5;241;43m=\u001b[39;49m\u001b[43mensure_min_features\u001b[49m\u001b[43m,\u001b[49m\n\u001b[0;32m   1086\u001b[0m \u001b[43m    \u001b[49m\u001b[43mestimator\u001b[49m\u001b[38;5;241;43m=\u001b[39;49m\u001b[43mestimator\u001b[49m\u001b[43m,\u001b[49m\n\u001b[0;32m   1087\u001b[0m \u001b[43m    \u001b[49m\u001b[43minput_name\u001b[49m\u001b[38;5;241;43m=\u001b[39;49m\u001b[38;5;124;43m\"\u001b[39;49m\u001b[38;5;124;43mX\u001b[39;49m\u001b[38;5;124;43m\"\u001b[39;49m\u001b[43m,\u001b[49m\n\u001b[0;32m   1088\u001b[0m \u001b[43m\u001b[49m\u001b[43m)\u001b[49m\n\u001b[0;32m   1090\u001b[0m y \u001b[38;5;241m=\u001b[39m _check_y(y, multi_output\u001b[38;5;241m=\u001b[39mmulti_output, y_numeric\u001b[38;5;241m=\u001b[39my_numeric, estimator\u001b[38;5;241m=\u001b[39mestimator)\n\u001b[0;32m   1092\u001b[0m check_consistent_length(X, y)\n",
      "File \u001b[1;32m~\\anaconda3\\envs\\tf\\lib\\site-packages\\sklearn\\utils\\validation.py:856\u001b[0m, in \u001b[0;36mcheck_array\u001b[1;34m(array, accept_sparse, accept_large_sparse, dtype, order, copy, force_all_finite, ensure_2d, allow_nd, ensure_min_samples, ensure_min_features, estimator, input_name)\u001b[0m\n\u001b[0;32m    854\u001b[0m         array \u001b[38;5;241m=\u001b[39m array\u001b[38;5;241m.\u001b[39mastype(dtype, casting\u001b[38;5;241m=\u001b[39m\u001b[38;5;124m\"\u001b[39m\u001b[38;5;124munsafe\u001b[39m\u001b[38;5;124m\"\u001b[39m, copy\u001b[38;5;241m=\u001b[39m\u001b[38;5;28;01mFalse\u001b[39;00m)\n\u001b[0;32m    855\u001b[0m     \u001b[38;5;28;01melse\u001b[39;00m:\n\u001b[1;32m--> 856\u001b[0m         array \u001b[38;5;241m=\u001b[39m \u001b[43mnp\u001b[49m\u001b[38;5;241;43m.\u001b[39;49m\u001b[43masarray\u001b[49m\u001b[43m(\u001b[49m\u001b[43marray\u001b[49m\u001b[43m,\u001b[49m\u001b[43m \u001b[49m\u001b[43morder\u001b[49m\u001b[38;5;241;43m=\u001b[39;49m\u001b[43morder\u001b[49m\u001b[43m,\u001b[49m\u001b[43m \u001b[49m\u001b[43mdtype\u001b[49m\u001b[38;5;241;43m=\u001b[39;49m\u001b[43mdtype\u001b[49m\u001b[43m)\u001b[49m\n\u001b[0;32m    857\u001b[0m \u001b[38;5;28;01mexcept\u001b[39;00m ComplexWarning \u001b[38;5;28;01mas\u001b[39;00m complex_warning:\n\u001b[0;32m    858\u001b[0m     \u001b[38;5;28;01mraise\u001b[39;00m \u001b[38;5;167;01mValueError\u001b[39;00m(\n\u001b[0;32m    859\u001b[0m         \u001b[38;5;124m\"\u001b[39m\u001b[38;5;124mComplex data not supported\u001b[39m\u001b[38;5;130;01m\\n\u001b[39;00m\u001b[38;5;132;01m{}\u001b[39;00m\u001b[38;5;130;01m\\n\u001b[39;00m\u001b[38;5;124m\"\u001b[39m\u001b[38;5;241m.\u001b[39mformat(array)\n\u001b[0;32m    860\u001b[0m     ) \u001b[38;5;28;01mfrom\u001b[39;00m \u001b[38;5;21;01mcomplex_warning\u001b[39;00m\n",
      "File \u001b[1;32m~\\anaconda3\\envs\\tf\\lib\\site-packages\\pandas\\core\\generic.py:2069\u001b[0m, in \u001b[0;36mNDFrame.__array__\u001b[1;34m(self, dtype)\u001b[0m\n\u001b[0;32m   2068\u001b[0m \u001b[38;5;28;01mdef\u001b[39;00m \u001b[38;5;21m__array__\u001b[39m(\u001b[38;5;28mself\u001b[39m, dtype: npt\u001b[38;5;241m.\u001b[39mDTypeLike \u001b[38;5;241m|\u001b[39m \u001b[38;5;28;01mNone\u001b[39;00m \u001b[38;5;241m=\u001b[39m \u001b[38;5;28;01mNone\u001b[39;00m) \u001b[38;5;241m-\u001b[39m\u001b[38;5;241m>\u001b[39m np\u001b[38;5;241m.\u001b[39mndarray:\n\u001b[1;32m-> 2069\u001b[0m     \u001b[38;5;28;01mreturn\u001b[39;00m \u001b[43mnp\u001b[49m\u001b[38;5;241;43m.\u001b[39;49m\u001b[43masarray\u001b[49m\u001b[43m(\u001b[49m\u001b[38;5;28;43mself\u001b[39;49m\u001b[38;5;241;43m.\u001b[39;49m\u001b[43m_values\u001b[49m\u001b[43m,\u001b[49m\u001b[43m \u001b[49m\u001b[43mdtype\u001b[49m\u001b[38;5;241;43m=\u001b[39;49m\u001b[43mdtype\u001b[49m\u001b[43m)\u001b[49m\n",
      "\u001b[1;31mValueError\u001b[0m: setting an array element with a sequence."
     ]
    }
   ],
   "source": [
    "C = 1.0 # SVM regularization parameter\n",
    "svc = svm.SVC(kernel='linear', C=1,gamma=0).fit(X, y)"
   ]
  },
  {
   "cell_type": "code",
   "execution_count": null,
   "id": "27b98762-3643-4bad-a678-c3a99b27f351",
   "metadata": {},
   "outputs": [],
   "source": []
  },
  {
   "cell_type": "code",
   "execution_count": 24,
   "id": "e65fec92-ec5d-4d1b-bd02-9437f65aad7d",
   "metadata": {},
   "outputs": [
    {
     "name": "stdout",
     "output_type": "stream",
     "text": [
      "<class 'numpy.ndarray'>\n",
      "(1, 0)\n"
     ]
    }
   ],
   "source": [
    "### once images are converted to grayscale, convert to numpy array\n",
    "\n",
    "# asarray() class is used to convert PIL images into numpy arrays\n",
    "numpydata = asarray(img_test_B[1], dtype=object)\n",
    " \n",
    "# <class 'numpy.ndarray'>\n",
    "print(type(numpydata))\n",
    " \n",
    "#  shape\n",
    "print(numpydata.shape)"
   ]
  },
  {
   "cell_type": "code",
   "execution_count": null,
   "id": "e44c4d44-6fd6-45f9-bab6-18862612b134",
   "metadata": {},
   "outputs": [],
   "source": []
  },
  {
   "cell_type": "code",
   "execution_count": null,
   "id": "a707fa3c-d814-471c-b213-188bdec642b8",
   "metadata": {},
   "outputs": [],
   "source": []
  },
  {
   "cell_type": "code",
   "execution_count": null,
   "id": "2946754c-214f-4d86-936d-3c29b3f72894",
   "metadata": {},
   "outputs": [],
   "source": []
  },
  {
   "cell_type": "code",
   "execution_count": null,
   "id": "9f9c71bc-a561-4f6c-8c77-80c43b3a07ad",
   "metadata": {},
   "outputs": [],
   "source": []
  },
  {
   "cell_type": "code",
   "execution_count": null,
   "id": "47fcacf7-a094-4e2c-a94d-a1a058d9f78f",
   "metadata": {},
   "outputs": [],
   "source": []
  },
  {
   "cell_type": "code",
   "execution_count": null,
   "id": "7f24da79-e24c-4de1-9ac7-c6f0bdaf04b8",
   "metadata": {},
   "outputs": [],
   "source": []
  },
  {
   "cell_type": "code",
   "execution_count": null,
   "id": "cc26e119-ede4-49d3-8965-f8d125934b68",
   "metadata": {},
   "outputs": [],
   "source": []
  },
  {
   "cell_type": "code",
   "execution_count": null,
   "id": "deeb6bcd-ff39-4df6-aba8-f7d738c136d6",
   "metadata": {},
   "outputs": [],
   "source": []
  },
  {
   "cell_type": "code",
   "execution_count": null,
   "id": "ea911eff-a47f-4447-9923-b044d01c8640",
   "metadata": {},
   "outputs": [],
   "source": []
  },
  {
   "cell_type": "code",
   "execution_count": null,
   "id": "f965c8e9-6e64-432d-ad13-2c04e2efdeae",
   "metadata": {},
   "outputs": [],
   "source": []
  },
  {
   "cell_type": "code",
   "execution_count": null,
   "id": "7b6074d1-045b-4a34-a6ba-62d5cfab4349",
   "metadata": {},
   "outputs": [],
   "source": []
  },
  {
   "cell_type": "code",
   "execution_count": null,
   "id": "65ec61b7-6e58-4838-a5a3-52cc08cc067f",
   "metadata": {},
   "outputs": [],
   "source": []
  },
  {
   "cell_type": "code",
   "execution_count": null,
   "id": "e3e2ce6b-6a84-45c4-acef-7c287271cb1c",
   "metadata": {},
   "outputs": [],
   "source": []
  },
  {
   "cell_type": "code",
   "execution_count": null,
   "id": "3ce09ba8-3d76-42f4-a8dc-e00c744d362e",
   "metadata": {},
   "outputs": [],
   "source": []
  },
  {
   "cell_type": "code",
   "execution_count": null,
   "id": "6398bbc0-b379-4922-841d-98b92aa4c3a9",
   "metadata": {},
   "outputs": [],
   "source": []
  },
  {
   "cell_type": "code",
   "execution_count": null,
   "id": "2b37d48d-23dd-47d3-bdae-04534d7f472a",
   "metadata": {},
   "outputs": [],
   "source": []
  },
  {
   "cell_type": "code",
   "execution_count": null,
   "id": "a50f6760-cfbd-423c-83c6-94e402f85255",
   "metadata": {},
   "outputs": [],
   "source": []
  },
  {
   "cell_type": "code",
   "execution_count": null,
   "id": "a6d59c7b-0def-4034-84ef-b1b26e3f262b",
   "metadata": {},
   "outputs": [],
   "source": []
  },
  {
   "cell_type": "code",
   "execution_count": null,
   "id": "a78a273e-6e56-40e6-89db-6b165a589305",
   "metadata": {},
   "outputs": [],
   "source": []
  },
  {
   "cell_type": "code",
   "execution_count": null,
   "id": "0a54a6d9-2e75-414a-ad2b-a09fc46832c6",
   "metadata": {},
   "outputs": [],
   "source": []
  },
  {
   "cell_type": "code",
   "execution_count": null,
   "id": "21b88f8c-7f62-409c-b6af-173aa9340523",
   "metadata": {},
   "outputs": [],
   "source": []
  },
  {
   "cell_type": "code",
   "execution_count": null,
   "id": "49654385-1ea1-46ff-a44c-a6a16a537d6d",
   "metadata": {},
   "outputs": [],
   "source": []
  },
  {
   "cell_type": "code",
   "execution_count": null,
   "id": "38ffb891-d795-4bcb-b6b1-92a2c212f263",
   "metadata": {},
   "outputs": [],
   "source": []
  },
  {
   "cell_type": "code",
   "execution_count": null,
   "id": "d883b45e-7a87-4092-9a48-52bf64bca72a",
   "metadata": {},
   "outputs": [],
   "source": []
  },
  {
   "cell_type": "code",
   "execution_count": null,
   "id": "0c546e8b-ade5-4b91-b0e0-8cf6f88eee2e",
   "metadata": {},
   "outputs": [],
   "source": []
  },
  {
   "cell_type": "code",
   "execution_count": null,
   "id": "b4f3a3e9-d684-412a-80fe-8368220f7647",
   "metadata": {},
   "outputs": [],
   "source": []
  },
  {
   "cell_type": "code",
   "execution_count": null,
   "id": "2d9e7ae0-c0b1-4d7d-be58-9916a1c52706",
   "metadata": {},
   "outputs": [],
   "source": []
  },
  {
   "cell_type": "code",
   "execution_count": null,
   "id": "0f9cc0ad-bda1-4da5-be85-f03bef7e0827",
   "metadata": {},
   "outputs": [],
   "source": []
  },
  {
   "cell_type": "code",
   "execution_count": null,
   "id": "7c722fd4-5b90-411f-adb5-6e397669e9c3",
   "metadata": {},
   "outputs": [],
   "source": []
  },
  {
   "cell_type": "code",
   "execution_count": null,
   "id": "7ed011f9-f060-4c76-b98f-801d25227d61",
   "metadata": {},
   "outputs": [],
   "source": []
  },
  {
   "cell_type": "code",
   "execution_count": null,
   "id": "3d89d483-a012-4436-80c7-7fb89097caae",
   "metadata": {},
   "outputs": [],
   "source": []
  },
  {
   "cell_type": "code",
   "execution_count": null,
   "id": "c89ba25d-f41e-4588-a449-3a1e859b781d",
   "metadata": {},
   "outputs": [],
   "source": [
    "cities = ['New York', 'Beijing', 'Cairo', 'Mumbai', 'Mexico']\n",
    "\n",
    "cities_list = []\n",
    "\n",
    "for city in cities:\n",
    "    x = city\n",
    "    cities_list.append(x)\n",
    "\n",
    "cities_list"
   ]
  },
  {
   "cell_type": "code",
   "execution_count": null,
   "id": "f1ce67ab-4aa1-4c1c-be12-a5dd96d8f7e1",
   "metadata": {},
   "outputs": [],
   "source": [
    "cities_list"
   ]
  },
  {
   "cell_type": "code",
   "execution_count": null,
   "id": "e16d02eb-69fc-4e55-883e-6dd3286ccf46",
   "metadata": {},
   "outputs": [],
   "source": []
  },
  {
   "cell_type": "code",
   "execution_count": null,
   "id": "5d6092ce-b813-4cca-91b2-cc105bc71c48",
   "metadata": {},
   "outputs": [],
   "source": [
    "cities = ['New York', 'Beijing', 'Cairo', 'Mumbai', 'Mexico']\n",
    "\n",
    "for city in cities:\n",
    "    x = city\n",
    "    print(x)"
   ]
  },
  {
   "cell_type": "code",
   "execution_count": null,
   "id": "67fc516c-f2c9-468f-adb5-ff124d18e1e2",
   "metadata": {},
   "outputs": [],
   "source": [
    "x"
   ]
  },
  {
   "cell_type": "code",
   "execution_count": null,
   "id": "37379a2a-6a97-42fd-96bd-161f8de357e4",
   "metadata": {},
   "outputs": [],
   "source": []
  },
  {
   "cell_type": "code",
   "execution_count": 21,
   "id": "bca8cf8c-ab34-4517-bda2-9cd33e2c59bf",
   "metadata": {},
   "outputs": [
    {
     "name": "stdout",
     "output_type": "stream",
     "text": [
      "<class 'numpy.ndarray'>\n",
      "(200, 200, 3)\n"
     ]
    }
   ],
   "source": [
    "### once images are converted to grayscale, convert to numpy array\n",
    "\n",
    "# asarray() class is used to convert PIL images into numpy arrays\n",
    "numpydata = asarray(img)\n",
    " \n",
    "# <class 'numpy.ndarray'>\n",
    "print(type(numpydata))\n",
    " \n",
    "#  shape\n",
    "print(numpydata.shape)"
   ]
  },
  {
   "cell_type": "code",
   "execution_count": 20,
   "id": "4bce275c-06f5-436a-a663-4882483c39c8",
   "metadata": {},
   "outputs": [
    {
     "name": "stdout",
     "output_type": "stream",
     "text": [
      "<class 'numpy.ndarray'>\n",
      "(200, 200, 3)\n"
     ]
    }
   ],
   "source": [
    "img = Image.open(train_set + 'B/TRAIN.1_BIODEG_ORI_0.jpg')\n",
    " \n",
    "# asarray() class is used to convert PIL images into numpy arrays\n",
    "numpydata = asarray(img)\n",
    " \n",
    "# <class 'numpy.ndarray'>\n",
    "print(type(numpydata))\n",
    " \n",
    "#  shape\n",
    "print(numpydata.shape)"
   ]
  },
  {
   "cell_type": "code",
   "execution_count": 22,
   "id": "8b138526-7872-4fc5-b1f1-cfc1342276e2",
   "metadata": {},
   "outputs": [
    {
     "name": "stdout",
     "output_type": "stream",
     "text": [
      "<class 'numpy.ndarray'>\n",
      "(200, 200)\n"
     ]
    }
   ],
   "source": [
    "img = Image.open(train_set_B + 'TRAIN.1_BIODEG_ORI_0.jpg').convert('L')\n",
    " \n",
    "# asarray() class is used to convert PIL images into numpy arrays\n",
    "numpydata = asarray(img)\n",
    " \n",
    "# <class 'numpy.ndarray'>\n",
    "print(type(numpydata))\n",
    " \n",
    "#  shape\n",
    "print(numpydata.shape)"
   ]
  },
  {
   "cell_type": "code",
   "execution_count": null,
   "id": "a80bca35-c846-4c47-863a-8b805d45144f",
   "metadata": {},
   "outputs": [],
   "source": []
  },
  {
   "cell_type": "code",
   "execution_count": null,
   "id": "eb15d730-925d-4a59-82b0-a768e042ea13",
   "metadata": {},
   "outputs": [],
   "source": []
  },
  {
   "cell_type": "code",
   "execution_count": null,
   "id": "625f4be4-7df5-4041-94ac-b8d9ab88192b",
   "metadata": {},
   "outputs": [],
   "source": []
  },
  {
   "cell_type": "code",
   "execution_count": null,
   "id": "8e144acf-612f-48c8-84f0-47cdd4969bb8",
   "metadata": {},
   "outputs": [],
   "source": []
  },
  {
   "cell_type": "code",
   "execution_count": null,
   "id": "1bd2b448-2d19-4021-965a-774944610932",
   "metadata": {},
   "outputs": [],
   "source": []
  },
  {
   "cell_type": "code",
   "execution_count": null,
   "id": "abfaa4d1-fd69-448a-b9f7-771b3923c32c",
   "metadata": {},
   "outputs": [],
   "source": []
  },
  {
   "cell_type": "code",
   "execution_count": null,
   "id": "e7b1cfd5-c0f0-43f8-8361-fa32d116baf2",
   "metadata": {},
   "outputs": [],
   "source": []
  },
  {
   "cell_type": "code",
   "execution_count": null,
   "id": "0418e714-3f18-4eed-9243-3f51587c2b8e",
   "metadata": {},
   "outputs": [],
   "source": []
  },
  {
   "cell_type": "code",
   "execution_count": null,
   "id": "357caace-98da-4258-bc1f-97d657f09375",
   "metadata": {},
   "outputs": [],
   "source": []
  },
  {
   "cell_type": "code",
   "execution_count": null,
   "id": "2a37e8d5-8570-40c2-a185-b24b040f8d35",
   "metadata": {},
   "outputs": [],
   "source": []
  },
  {
   "cell_type": "code",
   "execution_count": null,
   "id": "327369d6-71f2-4a41-89e8-fc7442060026",
   "metadata": {},
   "outputs": [],
   "source": []
  },
  {
   "cell_type": "code",
   "execution_count": null,
   "id": "6939b40f-da4b-415d-acda-71db2b90a8d7",
   "metadata": {},
   "outputs": [],
   "source": []
  },
  {
   "cell_type": "code",
   "execution_count": null,
   "id": "46af5410-49e4-4fb8-83ac-9c4636dbae83",
   "metadata": {},
   "outputs": [],
   "source": []
  },
  {
   "cell_type": "code",
   "execution_count": null,
   "id": "bad8479d-c183-49d8-a3a9-a255501ade61",
   "metadata": {},
   "outputs": [],
   "source": []
  },
  {
   "cell_type": "code",
   "execution_count": null,
   "id": "b524d6a3-4679-4d3b-8d20-0d32e6f3a7f9",
   "metadata": {},
   "outputs": [],
   "source": []
  },
  {
   "cell_type": "code",
   "execution_count": null,
   "id": "235c2b66-de28-4e44-a33e-7b40db19767c",
   "metadata": {},
   "outputs": [],
   "source": []
  },
  {
   "cell_type": "code",
   "execution_count": null,
   "id": "c96580d7-6f48-430f-961a-0c1efd40630a",
   "metadata": {},
   "outputs": [],
   "source": []
  },
  {
   "cell_type": "code",
   "execution_count": null,
   "id": "e706cb47-8584-45ed-be1c-28e2ca8d7286",
   "metadata": {},
   "outputs": [],
   "source": []
  },
  {
   "cell_type": "code",
   "execution_count": null,
   "id": "4f253c05-8428-4dd2-bc9d-a6b6435cabea",
   "metadata": {},
   "outputs": [],
   "source": []
  },
  {
   "cell_type": "code",
   "execution_count": null,
   "id": "555a764b-02df-4b02-857f-b5a4817fbee2",
   "metadata": {},
   "outputs": [],
   "source": []
  },
  {
   "cell_type": "code",
   "execution_count": null,
   "id": "4aa247c1-a4f9-4619-947a-c49147d7743b",
   "metadata": {},
   "outputs": [],
   "source": []
  }
 ],
 "metadata": {
  "kernelspec": {
   "display_name": "Python 3 (ipykernel)",
   "language": "python",
   "name": "python3"
  },
  "language_info": {
   "codemirror_mode": {
    "name": "ipython",
    "version": 3
   },
   "file_extension": ".py",
   "mimetype": "text/x-python",
   "name": "python",
   "nbconvert_exporter": "python",
   "pygments_lexer": "ipython3",
   "version": "3.9.13"
  }
 },
 "nbformat": 4,
 "nbformat_minor": 5
}
