{
 "cells": [
  {
   "cell_type": "code",
   "execution_count": 1,
   "id": "ab6c4630-cfe0-4d23-a5df-10b4b5dde34f",
   "metadata": {},
   "outputs": [
    {
     "name": "stderr",
     "output_type": "stream",
     "text": [
      "C:\\Users\\micha\\anaconda3\\envs\\tf\\lib\\site-packages\\scipy\\__init__.py:146: UserWarning: A NumPy version >=1.16.5 and <1.23.0 is required for this version of SciPy (detected version 1.23.3\n",
      "  warnings.warn(f\"A NumPy version >={np_minversion} and <{np_maxversion}\"\n"
     ]
    }
   ],
   "source": [
    "import pandas as pd\n",
    "import matplotlib.pyplot as plt\n",
    "\n",
    "from keras.preprocessing.image import ImageDataGenerator\n",
    "from keras.layers import Dense, Conv2D, MaxPool2D, Dropout, Flatten\n",
    "from keras.models import Sequential\n",
    "\n",
    "from PIL import Image\n",
    "\n",
    "from tensorflow.keras.applications import EfficientNetB0\n",
    "from tensorflow.keras.layers import GlobalAveragePooling2D, Resizing\n",
    "from tensorflow.keras.optimizers import Adam\n",
    "\n",
    "import os"
   ]
  },
  {
   "cell_type": "code",
   "execution_count": 2,
   "id": "6c5837ac-39f3-4a6b-ba05-d849a39378ea",
   "metadata": {},
   "outputs": [],
   "source": [
    "train = 'data/train/'\n",
    "test = 'data/test/'"
   ]
  },
  {
   "cell_type": "markdown",
   "id": "5bde2ee4-4376-4ef9-835f-48c48c87a59b",
   "metadata": {},
   "source": [
    "### Modeling"
   ]
  },
  {
   "cell_type": "code",
   "execution_count": 3,
   "id": "ad39d996-1c83-4351-8657-6935cb878e80",
   "metadata": {},
   "outputs": [],
   "source": [
    "train_gen = ImageDataGenerator(rescale=1/255)\n",
    "test_gen = ImageDataGenerator(rescale=1/255)"
   ]
  },
  {
   "cell_type": "code",
   "execution_count": 4,
   "id": "667cec4d-a23f-4dbf-a131-8c9ba7ab98b9",
   "metadata": {},
   "outputs": [
    {
     "name": "stdout",
     "output_type": "stream",
     "text": [
      "Found 59923 images belonging to 2 classes.\n",
      "Found 16726 images belonging to 2 classes.\n"
     ]
    }
   ],
   "source": [
    "# train is about 78% and test is about 22% of total image count\n",
    "\n",
    "train_data = train_gen.flow_from_directory(\n",
    "    train,\n",
    "    class_mode='binary'\n",
    ")\n",
    "\n",
    "test_data = test_gen.flow_from_directory(\n",
    "    test,\n",
    "    class_mode='binary'\n",
    ")"
   ]
  },
  {
   "cell_type": "code",
   "execution_count": 5,
   "id": "227bd22c-7a22-4e0f-aa94-79171a211270",
   "metadata": {},
   "outputs": [],
   "source": [
    "# model building\n",
    "\n",
    "model = Sequential()\n",
    "\n",
    "model.add(Resizing(\n",
    "    height = 50, \n",
    "    width = 50, \n",
    "    interpolation=\"bilinear\", \n",
    "    crop_to_aspect_ratio=False\n",
    "))\n",
    "\n",
    "model.add(Conv2D(\n",
    "    filters=16,\n",
    "    kernel_size=(3,3),\n",
    "    activation='relu'\n",
    "))\n",
    "model.add(MaxPool2D(\n",
    "    pool_size=(2,2)\n",
    "))\n",
    "\n",
    "model.add(Conv2D(\n",
    "    filters=10,\n",
    "    kernel_size=(3,3),\n",
    "    activation='relu'\n",
    "))\n",
    "\n",
    "model.add(MaxPool2D(\n",
    "    pool_size=(2,2)\n",
    "))\n",
    "\n",
    "model.add(Flatten())\n",
    "model.add(Dense(\n",
    "    units=100,\n",
    "    activation='relu'\n",
    "))\n",
    "\n",
    "# output layer\n",
    "model.add(Dense(\n",
    "    units=1,\n",
    "    activation='sigmoid'\n",
    "))"
   ]
  },
  {
   "cell_type": "code",
   "execution_count": 6,
   "id": "9bf912a0-4e20-4ca0-8da2-99e555a0e0f6",
   "metadata": {},
   "outputs": [],
   "source": [
    "# compile\n",
    "\n",
    "model.compile(loss='bce', metrics=['acc'])"
   ]
  },
  {
   "cell_type": "code",
   "execution_count": 7,
   "id": "488e2921-72df-4a80-a0d0-706edb5ed5e1",
   "metadata": {},
   "outputs": [
    {
     "name": "stdout",
     "output_type": "stream",
     "text": [
      "1873/1873 [==============================] - 603s 321ms/step - loss: 0.3079 - acc: 0.8733 - val_loss: 0.5404 - val_acc: 0.7562\n"
     ]
    }
   ],
   "source": [
    "# fit\n",
    "history = model.fit(\n",
    "    train_data,\n",
    "    batch_size = 5,\n",
    "    validation_data = test_data,\n",
    "    validation_batch_size = 5\n",
    ")"
   ]
  },
  {
   "cell_type": "markdown",
   "id": "92ee59e0-2b75-4eb4-a1b0-6c1369bd7788",
   "metadata": {},
   "source": [
    "##### SavedModel\n",
    "- saving entirety of keras model"
   ]
  },
  {
   "cell_type": "code",
   "execution_count": 11,
   "id": "e0440d07-3b8d-439f-8244-b25bbb821ff8",
   "metadata": {},
   "outputs": [
    {
     "name": "stderr",
     "output_type": "stream",
     "text": [
      "WARNING:absl:Found untraced functions such as _jit_compiled_convolution_op, _jit_compiled_convolution_op while saving (showing 2 of 2). These functions will not be directly callable after loading.\n"
     ]
    },
    {
     "name": "stdout",
     "output_type": "stream",
     "text": [
      "INFO:tensorflow:Assets written to: models/waste_saved\\assets\n"
     ]
    },
    {
     "name": "stderr",
     "output_type": "stream",
     "text": [
      "INFO:tensorflow:Assets written to: models/waste_saved\\assets\n"
     ]
    }
   ],
   "source": [
    "model.save('models/waste_saved')"
   ]
  },
  {
   "cell_type": "code",
   "execution_count": null,
   "id": "451e1239-e168-42d4-b83b-48e9b57f72cb",
   "metadata": {},
   "outputs": [],
   "source": []
  },
  {
   "cell_type": "code",
   "execution_count": null,
   "id": "affa47f2-ce9e-4091-8833-27373ce5e255",
   "metadata": {},
   "outputs": [],
   "source": []
  }
 ],
 "metadata": {
  "kernelspec": {
   "display_name": "Python 3 (ipykernel)",
   "language": "python",
   "name": "python3"
  },
  "language_info": {
   "codemirror_mode": {
    "name": "ipython",
    "version": 3
   },
   "file_extension": ".py",
   "mimetype": "text/x-python",
   "name": "python",
   "nbconvert_exporter": "python",
   "pygments_lexer": "ipython3",
   "version": "3.9.13"
  }
 },
 "nbformat": 4,
 "nbformat_minor": 5
}
